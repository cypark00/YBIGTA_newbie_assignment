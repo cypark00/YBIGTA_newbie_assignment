{
 "cells": [
  {
   "cell_type": "markdown",
   "id": "5acb5a9e",
   "metadata": {},
   "source": [
    "# 1. 기초 통계 과제 \n",
    "### Iris 데이터셋을 활용해 클래스별 변수 평균 차이를 검정"
   ]
  },
  {
   "cell_type": "markdown",
   "id": "4951ce27",
   "metadata": {},
   "source": [
    "#### 1-1. 데이터셋 구조 확인"
   ]
  },
  {
   "cell_type": "code",
   "execution_count": 9,
   "id": "a9964307",
   "metadata": {},
   "outputs": [],
   "source": [
    "import seaborn as sns\n",
    "import pandas as pd"
   ]
  },
  {
   "cell_type": "code",
   "execution_count": 10,
   "id": "86f058de",
   "metadata": {},
   "outputs": [
    {
     "name": "stdout",
     "output_type": "stream",
     "text": [
      "   sepal_length  sepal_width  petal_length  petal_width species\n",
      "0           5.1          3.5           1.4          0.2  setosa\n",
      "1           4.9          3.0           1.4          0.2  setosa\n",
      "2           4.7          3.2           1.3          0.2  setosa\n",
      "3           4.6          3.1           1.5          0.2  setosa\n",
      "4           5.0          3.6           1.4          0.2  setosa\n"
     ]
    }
   ],
   "source": [
    "iris = sns.load_dataset('iris')\n",
    "print(iris.head())"
   ]
  },
  {
   "cell_type": "code",
   "execution_count": 12,
   "id": "31860988",
   "metadata": {},
   "outputs": [
    {
     "name": "stdout",
     "output_type": "stream",
     "text": [
      "<class 'pandas.core.frame.DataFrame'>\n",
      "RangeIndex: 150 entries, 0 to 149\n",
      "Data columns (total 5 columns):\n",
      " #   Column        Non-Null Count  Dtype  \n",
      "---  ------        --------------  -----  \n",
      " 0   sepal_length  150 non-null    float64\n",
      " 1   sepal_width   150 non-null    float64\n",
      " 2   petal_length  150 non-null    float64\n",
      " 3   petal_width   150 non-null    float64\n",
      " 4   species       150 non-null    object \n",
      "dtypes: float64(4), object(1)\n",
      "memory usage: 6.0+ KB\n",
      "None\n"
     ]
    }
   ],
   "source": [
    "print(iris.info())"
   ]
  },
  {
   "cell_type": "markdown",
   "id": "ab35699f",
   "metadata": {},
   "source": [
    "#### 1-2. 기술통계량 산출"
   ]
  },
  {
   "cell_type": "code",
   "execution_count": 13,
   "id": "90f10991",
   "metadata": {},
   "outputs": [
    {
     "name": "stdout",
     "output_type": "stream",
     "text": [
      "            count   mean       std  min  25%   50%    75%  max\n",
      "species                                                       \n",
      "setosa       50.0  1.462  0.173664  1.0  1.4  1.50  1.575  1.9\n",
      "versicolor   50.0  4.260  0.469911  3.0  4.0  4.35  4.600  5.1\n",
      "virginica    50.0  5.552  0.551895  4.5  5.1  5.55  5.875  6.9\n"
     ]
    }
   ],
   "source": [
    "group_stats = iris.groupby('species')['petal_length'].describe()\n",
    "print(group_stats)"
   ]
  },
  {
   "cell_type": "code",
   "execution_count": 14,
   "id": "dd8b7567",
   "metadata": {},
   "outputs": [
    {
     "name": "stdout",
     "output_type": "stream",
     "text": [
      "species\n",
      "setosa        50\n",
      "versicolor    50\n",
      "virginica     50\n",
      "Name: count, dtype: int64\n"
     ]
    }
   ],
   "source": [
    "#그룹별 데이터 개수 확인\n",
    "print(iris['species'].value_counts())"
   ]
  },
  {
   "cell_type": "markdown",
   "id": "37c024b2",
   "metadata": {},
   "source": [
    "#### 1-3. 시각화"
   ]
  },
  {
   "cell_type": "code",
   "execution_count": 15,
   "id": "16d99bf6",
   "metadata": {},
   "outputs": [],
   "source": [
    "import matplotlib.pyplot as plt\n",
    "import seaborn as sns"
   ]
  },
  {
   "cell_type": "code",
   "execution_count": 17,
   "id": "349a019e",
   "metadata": {},
   "outputs": [
    {
     "data": {
      "text/plain": [
       "Text(0.5, 1.0, 'Distribution of Petal Length by Iris Species')"
      ]
     },
     "execution_count": 17,
     "metadata": {},
     "output_type": "execute_result"
    },
    {
     "data": {
      "image/png": "[encoded data removed]",
      "text/plain": [
       "<Figure size 640x480 with 1 Axes>"
      ]
     },
     "metadata": {},
     "output_type": "display_data"
    }
   ],
   "source": [
    "sns.boxplot(x='species', y='petal_length', data=iris)\n",
    "plt.title(\"Distribution of Petal Length by Iris Species\")"
   ]
  },
  {
   "cell_type": "markdown",
   "id": "b92c3312",
   "metadata": {},
   "source": [
    "petal length의 평균은 virginica가 가장 크고, Setosa가 가장 작다.\\\n",
    "Setosa는 중앙값이 가장 낮고, 분산이 작아 꽃잎 길이가 짧고 일정하게 분포함을 보여준다.\\\n",
    "Virginica는 가장 높은 중앙값과 넓은 분포 범위를 나타낸다."
   ]
  },
  {
   "cell_type": "markdown",
   "id": "340f8a48",
   "metadata": {},
   "source": [
    "#### 1-4. 정규성 검정 "
   ]
  },
  {
   "cell_type": "code",
   "execution_count": 18,
   "id": "da891ee6",
   "metadata": {},
   "outputs": [],
   "source": [
    "from scipy.stats import shapiro"
   ]
  },
  {
   "cell_type": "markdown",
   "id": "20b90540",
   "metadata": {},
   "source": [
    "가설\\\n",
    "H₀: 해당 종(Species)의 Petal Length 데이터는 정규분포를 따른다.\\\n",
    "H₁: 해당 종의 Petal Length 데이터는 정규분포를 따르지 않는다."
   ]
  },
  {
   "cell_type": "code",
   "execution_count": 20,
   "id": "ff248039",
   "metadata": {},
   "outputs": [
    {
     "name": "stdout",
     "output_type": "stream",
     "text": [
      "setosa: p-value = 0.0548\n",
      "versicolor: p-value = 0.1585\n",
      "virginica: p-value = 0.1098\n"
     ]
    }
   ],
   "source": [
    "for species in iris['species'].unique():\n",
    "    data = iris[iris['species'] == species]['petal_length']\n",
    "    stat, p = shapiro(data)\n",
    "\n",
    "    print(f\"{species}: p-value = {p:.4f}\")"
   ]
  },
  {
   "cell_type": "markdown",
   "id": "acca6318",
   "metadata": {},
   "source": [
    "모든 그룹에서 Shapiro-Wilk 검정의 p-value가 0.05보다 크므로, 세 그룹 모두에서 정규성을 만족한다고 판단할 수 있다. "
   ]
  },
  {
   "cell_type": "markdown",
   "id": "89bd32c8",
   "metadata": {},
   "source": [
    "#### 1-5. 등분산성 검정"
   ]
  },
  {
   "cell_type": "markdown",
   "id": "94add404",
   "metadata": {},
   "source": [
    "가설\\\n",
    "H₀: 세 그룹의 분산이 모두 같다. \\\n",
    "H₁: 적어도 하나의 그룹은 분산이 다르다. "
   ]
  },
  {
   "cell_type": "code",
   "execution_count": 22,
   "id": "93c7115e",
   "metadata": {},
   "outputs": [
    {
     "name": "stdout",
     "output_type": "stream",
     "text": [
      "p-value = 0.00000003\n"
     ]
    }
   ],
   "source": [
    "from scipy.stats import levene\n",
    "setosa = iris[iris['species']== 'setosa']['petal_length']\n",
    "versicolor = iris[iris['species']== 'versicolor']['petal_length']\n",
    "virginica = iris[iris['species']== 'virginica']['petal_length']\n",
    "\n",
    "stat, p = levene(setosa, versicolor, virginica) \n",
    "print(f\"p-value = {p:.8f}\")\n"
   ]
  },
  {
   "cell_type": "markdown",
   "id": "f3cfc069",
   "metadata": {},
   "source": [
    "해석 \\\n",
    "p-value가 유의수준 0.05보다 작으므로, 귀무가설을 기각한다.\\\n",
    "따라서 세 그룹 간 분산이 같지 않다고 판단할 수 있다. \n"
   ]
  },
  {
   "cell_type": "markdown",
   "id": "f6b4fa63",
   "metadata": {},
   "source": [
    "#### 1-6. ANOVA 가설 수립"
   ]
  },
  {
   "cell_type": "markdown",
   "id": "f40876d2",
   "metadata": {},
   "source": [
    "가설\\\n",
    "H₀: 3개 species 간의 petal length 평균은 모두 같다. \\\n",
    "H₁: 적어도 한 species의 petal length 평균은 나머지와 다르다.  "
   ]
  },
  {
   "cell_type": "markdown",
   "id": "8ca082b3",
   "metadata": {},
   "source": [
    "#### 1-7. ANOVA 실행 "
   ]
  },
  {
   "cell_type": "code",
   "execution_count": 23,
   "id": "aa54d1f9",
   "metadata": {},
   "outputs": [
    {
     "name": "stdout",
     "output_type": "stream",
     "text": [
      "            sum_sq     df            F        PR(>F)\n",
      "species   437.1028    2.0  1180.161182  2.856777e-91\n",
      "Residual   27.2226  147.0          NaN           NaN\n"
     ]
    }
   ],
   "source": [
    "import statsmodels.api as sm \n",
    "from statsmodels.formula.api import ols \n",
    "\n",
    "model = ols('petal_length ~ species', data=iris).fit() \n",
    "annova_table = sm.stats.anova_lm(model, typ=2)\n",
    "print(annova_table)"
   ]
  },
  {
   "cell_type": "markdown",
   "id": "fecc86b3",
   "metadata": {},
   "source": [
    "해석\\\n",
    "p-value가 유의수준 0.05보다 작기 때문에 귀무가설을 기각한다.\\\n",
    "종에 따라 꽃잎 길이의 평균에 통계적으로 유의미한 차이가 존재한다. "
   ]
  },
  {
   "cell_type": "markdown",
   "id": "24fc049d",
   "metadata": {},
   "source": [
    "#### 1-8. 사후검정"
   ]
  },
  {
   "cell_type": "code",
   "execution_count": 24,
   "id": "01988c5a",
   "metadata": {},
   "outputs": [
    {
     "name": "stdout",
     "output_type": "stream",
     "text": [
      "   Multiple Comparison of Means - Tukey HSD, FWER=0.05   \n",
      "=========================================================\n",
      "  group1     group2   meandiff p-adj lower  upper  reject\n",
      "---------------------------------------------------------\n",
      "    setosa versicolor    2.798   0.0 2.5942 3.0018   True\n",
      "    setosa  virginica     4.09   0.0 3.8862 4.2938   True\n",
      "versicolor  virginica    1.292   0.0 1.0882 1.4958   True\n",
      "---------------------------------------------------------\n"
     ]
    }
   ],
   "source": [
    "from statsmodels.stats.multicomp import pairwise_tukeyhsd\n",
    "tukey = pairwise_tukeyhsd(endog=iris['petal_length'], groups=iris['species'], alpha=0.05)\n",
    "print(tukey)"
   ]
  },
  {
   "cell_type": "markdown",
   "id": "267a1b5c",
   "metadata": {},
   "source": [
    "모든 그룹 쌍에서 p-value가 0.05보다 작고, 평균 차이에 대한 95% 신뢰구간이 0을 포함하지 않는다. 따라서 모든 쌍에서 통계적으로 유의미한 평균 차이가 존재한다. \n",
    "\n"
   ]
  },
  {
   "cell_type": "markdown",
   "id": "38890b76",
   "metadata": {},
   "source": [
    "#### 1-9. 결과 요약"
   ]
  },
  {
   "cell_type": "markdown",
   "id": "435cc0d7",
   "metadata": {},
   "source": [
    "Iris 데이터셋을 활용하여 세 종(setosa, versicolor, virginica) 간의 petal length 평균 차이가 존재하는지 통계적으로 검정했다.\n",
    "1. Boxplot 시각화를 통해 virginica 품종이 가장 긴 petal length를, setosa가 가장 짧은 petal length를 가짐을 확인하였다. \n",
    "2. One-way ANOVA 분석을 통해 세 품종 간 평균 petal length의 차이가 통계적으로 유의미함을 확인하였다(p<0.05)\n",
    "3. Tukey의 사후검정에서 모든 품종 쌍 간에 유의한 평균 차이가 존재함을 확인하였다. \n",
    "\n",
    "따라서 세 품종의 평균 petal length는 통계적으로 유의미한 차이가 있으며,setosa < versicolor < virginica 순으로 petal length가 유의미하게 길다는 것을 확인하였다. "
   ]
  },
  {
   "cell_type": "markdown",
   "id": "69942c1a",
   "metadata": {},
   "source": [
    "# 2. 기초 머신러닝 과제 \n",
    "### 실제 신용카드 사기 데이터셋을 활용해 클래스 불균형 상황에서 분류 모델을 학습"
   ]
  },
  {
   "cell_type": "markdown",
   "id": "58a1fe10",
   "metadata": {},
   "source": [
    "#### 2-1. 데이터 로드 및 기본 탐색 "
   ]
  },
  {
   "cell_type": "code",
   "execution_count": 26,
   "id": "0fc164ec",
   "metadata": {},
   "outputs": [],
   "source": [
    "#라이브러리 불러오기 \n",
    "import pandas as pd\n",
    "import numpy as np\n",
    "from sklearn.model_selection import train_test_split\n",
    "from sklearn.preprocessing import StandardScaler\n",
    "from imblearn.over_sampling import SMOTE\n",
    "from sklearn.ensemble import RandomForestClassifier\n",
    "from sklearn.metrics import classification_report, average_precision_score\n",
    "import matplotlib.pyplot as plt\n",
    "import seaborn as sns\n"
   ]
  },
  {
   "cell_type": "code",
   "execution_count": 29,
   "id": "78ff02f4",
   "metadata": {},
   "outputs": [
    {
     "name": "stdout",
     "output_type": "stream",
     "text": [
      "   Time        V1        V2        V3        V4        V5        V6        V7  \\\n",
      "0   0.0 -1.359807 -0.072781  2.536347  1.378155 -0.338321  0.462388  0.239599   \n",
      "1   0.0  1.191857  0.266151  0.166480  0.448154  0.060018 -0.082361 -0.078803   \n",
      "2   1.0 -1.358354 -1.340163  1.773209  0.379780 -0.503198  1.800499  0.791461   \n",
      "3   1.0 -0.966272 -0.185226  1.792993 -0.863291 -0.010309  1.247203  0.237609   \n",
      "4   2.0 -1.158233  0.877737  1.548718  0.403034 -0.407193  0.095921  0.592941   \n",
      "\n",
      "         V8        V9  ...       V21       V22       V23       V24       V25  \\\n",
      "0  0.098698  0.363787  ... -0.018307  0.277838 -0.110474  0.066928  0.128539   \n",
      "1  0.085102 -0.255425  ... -0.225775 -0.638672  0.101288 -0.339846  0.167170   \n",
      "2  0.247676 -1.514654  ...  0.247998  0.771679  0.909412 -0.689281 -0.327642   \n",
      "3  0.377436 -1.387024  ... -0.108300  0.005274 -0.190321 -1.175575  0.647376   \n",
      "4 -0.270533  0.817739  ... -0.009431  0.798278 -0.137458  0.141267 -0.206010   \n",
      "\n",
      "        V26       V27       V28  Amount  Class  \n",
      "0 -0.189115  0.133558 -0.021053  149.62      0  \n",
      "1  0.125895 -0.008983  0.014724    2.69      0  \n",
      "2 -0.139097 -0.055353 -0.059752  378.66      0  \n",
      "3 -0.221929  0.062723  0.061458  123.50      0  \n",
      "4  0.502292  0.219422  0.215153   69.99      0  \n",
      "\n",
      "[5 rows x 31 columns]\n"
     ]
    }
   ],
   "source": [
    "df = pd.read_csv('creditcard.csv')\n",
    "print(df.head())"
   ]
  },
  {
   "cell_type": "code",
   "execution_count": 30,
   "id": "515d8b2c",
   "metadata": {},
   "outputs": [
    {
     "name": "stdout",
     "output_type": "stream",
     "text": [
      "<class 'pandas.core.frame.DataFrame'>\n",
      "RangeIndex: 284807 entries, 0 to 284806\n",
      "Data columns (total 31 columns):\n",
      " #   Column  Non-Null Count   Dtype  \n",
      "---  ------  --------------   -----  \n",
      " 0   Time    284807 non-null  float64\n",
      " 1   V1      284807 non-null  float64\n",
      " 2   V2      284807 non-null  float64\n",
      " 3   V3      284807 non-null  float64\n",
      " 4   V4      284807 non-null  float64\n",
      " 5   V5      284807 non-null  float64\n",
      " 6   V6      284807 non-null  float64\n",
      " 7   V7      284807 non-null  float64\n",
      " 8   V8      284807 non-null  float64\n",
      " 9   V9      284807 non-null  float64\n",
      " 10  V10     284807 non-null  float64\n",
      " 11  V11     284807 non-null  float64\n",
      " 12  V12     284807 non-null  float64\n",
      " 13  V13     284807 non-null  float64\n",
      " 14  V14     284807 non-null  float64\n",
      " 15  V15     284807 non-null  float64\n",
      " 16  V16     284807 non-null  float64\n",
      " 17  V17     284807 non-null  float64\n",
      " 18  V18     284807 non-null  float64\n",
      " 19  V19     284807 non-null  float64\n",
      " 20  V20     284807 non-null  float64\n",
      " 21  V21     284807 non-null  float64\n",
      " 22  V22     284807 non-null  float64\n",
      " 23  V23     284807 non-null  float64\n",
      " 24  V24     284807 non-null  float64\n",
      " 25  V25     284807 non-null  float64\n",
      " 26  V26     284807 non-null  float64\n",
      " 27  V27     284807 non-null  float64\n",
      " 28  V28     284807 non-null  float64\n",
      " 29  Amount  284807 non-null  float64\n",
      " 30  Class   284807 non-null  int64  \n",
      "dtypes: float64(30), int64(1)\n",
      "memory usage: 67.4 MB\n",
      "None\n"
     ]
    }
   ],
   "source": [
    "print(df.info())"
   ]
  },
  {
   "cell_type": "code",
   "execution_count": 33,
   "id": "95b54497",
   "metadata": {},
   "outputs": [
    {
     "name": "stdout",
     "output_type": "stream",
     "text": [
      "                Time            V1            V2            V3            V4  \\\n",
      "count  284807.000000  2.848070e+05  2.848070e+05  2.848070e+05  2.848070e+05   \n",
      "mean    94813.859575  1.168375e-15  3.416908e-16 -1.379537e-15  2.074095e-15   \n",
      "std     47488.145955  1.958696e+00  1.651309e+00  1.516255e+00  1.415869e+00   \n",
      "min         0.000000 -5.640751e+01 -7.271573e+01 -4.832559e+01 -5.683171e+00   \n",
      "25%     54201.500000 -9.203734e-01 -5.985499e-01 -8.903648e-01 -8.486401e-01   \n",
      "50%     84692.000000  1.810880e-02  6.548556e-02  1.798463e-01 -1.984653e-02   \n",
      "75%    139320.500000  1.315642e+00  8.037239e-01  1.027196e+00  7.433413e-01   \n",
      "max    172792.000000  2.454930e+00  2.205773e+01  9.382558e+00  1.687534e+01   \n",
      "\n",
      "                 V5            V6            V7            V8            V9  \\\n",
      "count  2.848070e+05  2.848070e+05  2.848070e+05  2.848070e+05  2.848070e+05   \n",
      "mean   9.604066e-16  1.487313e-15 -5.556467e-16  1.213481e-16 -2.406331e-15   \n",
      "std    1.380247e+00  1.332271e+00  1.237094e+00  1.194353e+00  1.098632e+00   \n",
      "min   -1.137433e+02 -2.616051e+01 -4.355724e+01 -7.321672e+01 -1.343407e+01   \n",
      "25%   -6.915971e-01 -7.682956e-01 -5.540759e-01 -2.086297e-01 -6.430976e-01   \n",
      "50%   -5.433583e-02 -2.741871e-01  4.010308e-02  2.235804e-02 -5.142873e-02   \n",
      "75%    6.119264e-01  3.985649e-01  5.704361e-01  3.273459e-01  5.971390e-01   \n",
      "max    3.480167e+01  7.330163e+01  1.205895e+02  2.000721e+01  1.559499e+01   \n",
      "\n",
      "       ...           V21           V22           V23           V24  \\\n",
      "count  ...  2.848070e+05  2.848070e+05  2.848070e+05  2.848070e+05   \n",
      "mean   ...  1.654067e-16 -3.568593e-16  2.578648e-16  4.473266e-15   \n",
      "std    ...  7.345240e-01  7.257016e-01  6.244603e-01  6.056471e-01   \n",
      "min    ... -3.483038e+01 -1.093314e+01 -4.480774e+01 -2.836627e+00   \n",
      "25%    ... -2.283949e-01 -5.423504e-01 -1.618463e-01 -3.545861e-01   \n",
      "50%    ... -2.945017e-02  6.781943e-03 -1.119293e-02  4.097606e-02   \n",
      "75%    ...  1.863772e-01  5.285536e-01  1.476421e-01  4.395266e-01   \n",
      "max    ...  2.720284e+01  1.050309e+01  2.252841e+01  4.584549e+00   \n",
      "\n",
      "                V25           V26           V27           V28         Amount  \\\n",
      "count  2.848070e+05  2.848070e+05  2.848070e+05  2.848070e+05  284807.000000   \n",
      "mean   5.340915e-16  1.683437e-15 -3.660091e-16 -1.227390e-16      88.349619   \n",
      "std    5.212781e-01  4.822270e-01  4.036325e-01  3.300833e-01     250.120109   \n",
      "min   -1.029540e+01 -2.604551e+00 -2.256568e+01 -1.543008e+01       0.000000   \n",
      "25%   -3.171451e-01 -3.269839e-01 -7.083953e-02 -5.295979e-02       5.600000   \n",
      "50%    1.659350e-02 -5.213911e-02  1.342146e-03  1.124383e-02      22.000000   \n",
      "75%    3.507156e-01  2.409522e-01  9.104512e-02  7.827995e-02      77.165000   \n",
      "max    7.519589e+00  3.517346e+00  3.161220e+01  3.384781e+01   25691.160000   \n",
      "\n",
      "               Class  \n",
      "count  284807.000000  \n",
      "mean        0.001727  \n",
      "std         0.041527  \n",
      "min         0.000000  \n",
      "25%         0.000000  \n",
      "50%         0.000000  \n",
      "75%         0.000000  \n",
      "max         1.000000  \n",
      "\n",
      "[8 rows x 31 columns]\n"
     ]
    }
   ],
   "source": [
    "print(df.describe())"
   ]
  },
  {
   "cell_type": "code",
   "execution_count": 34,
   "id": "65689e01",
   "metadata": {},
   "outputs": [
    {
     "name": "stdout",
     "output_type": "stream",
     "text": [
      "Class\n",
      "0    0.998273\n",
      "1    0.001727\n",
      "Name: proportion, dtype: float64\n"
     ]
    }
   ],
   "source": [
    "print(df['Class'].value_counts(normalize=True))"
   ]
  },
  {
   "cell_type": "code",
   "execution_count": 35,
   "id": "a139511d",
   "metadata": {},
   "outputs": [
    {
     "name": "stdout",
     "output_type": "stream",
     "text": [
      "정상 거래 (Class=0): 284315\n",
      "사기 거래 (Class=1): 492\n"
     ]
    }
   ],
   "source": [
    "#정상 거래와 사기 거래 건수 확인 \n",
    "count_by_class = df['Class'].value_counts()\n",
    "print(\"정상 거래 (Class=0):\", count_by_class[0])\n",
    "print(\"사기 거래 (Class=1):\", count_by_class[1])"
   ]
  },
  {
   "cell_type": "markdown",
   "id": "a3feb4a7",
   "metadata": {},
   "source": [
    "creditcard.csv 파일을 불러온 후, 전체 데이터의 구조와 클래스 분포를 확인하였다.\\\n",
    "총 284,807건의 거래가 포함되어 있으며, class 분포를 확인한 결과, 정상 거래가 99.8% 이상을 차지하고, 사기 거래는 약 0.17%로 매우 희소하게 나타났다. \n"
   ]
  },
  {
   "cell_type": "markdown",
   "id": "ee04266e",
   "metadata": {},
   "source": [
    "#### 2-2. 샘플링"
   ]
  },
  {
   "cell_type": "code",
   "execution_count": 38,
   "id": "a39ee400",
   "metadata": {},
   "outputs": [],
   "source": [
    "#사기 거래만 추출 \n",
    "fraud = df[df['Class'] == 1]\n",
    "\n",
    "#정상 거래 중 10,000건 무작위로 추출 \n",
    "normal = df[df['Class'] == 0].sample(n=10000, random_state=42)\n",
    "\n",
    "# 사기 + 샘플링된 정상 거래 \n",
    "sampled_df = pd.concat([fraud, normal])\n",
    "sampled_df = sampled_df.sample(frac=1, random_state=42).reset_index(drop=True)\n"
   ]
  },
  {
   "cell_type": "code",
   "execution_count": 39,
   "id": "9613563c",
   "metadata": {},
   "outputs": [
    {
     "name": "stdout",
     "output_type": "stream",
     "text": [
      "Class\n",
      "0    0.953107\n",
      "1    0.046893\n",
      "Name: proportion, dtype: float64\n"
     ]
    }
   ],
   "source": [
    "# 새 데이터셋의 클래스 비율 확인 \n",
    "print(sampled_df['Class'].value_counts(normalize=True))"
   ]
  },
  {
   "cell_type": "markdown",
   "id": "6c74c3e9",
   "metadata": {},
   "source": [
    "사기 거래 전체와 정상 거래 10,000건을 샘플링하여 약 4.7%의 사기 거래 비율을 갖는 샘플 데이터셋을 구성하였다.\\\n",
    " 원본 데이터에 비해 class 1이 크게 보강된 것을 확인하였다. "
   ]
  },
  {
   "cell_type": "markdown",
   "id": "915a0450",
   "metadata": {},
   "source": [
    "#### 2-3. 데이터 전처리"
   ]
  },
  {
   "cell_type": "code",
   "execution_count": 37,
   "id": "cdb83775",
   "metadata": {},
   "outputs": [],
   "source": [
    "from sklearn.preprocessing import StandardScaler"
   ]
  },
  {
   "cell_type": "code",
   "execution_count": 40,
   "id": "1817c32b",
   "metadata": {},
   "outputs": [],
   "source": [
    "#StandardScaler 객체 생성 \n",
    "scaler = StandardScaler()\n",
    "\n",
    "#Amount 변수 표준화, 새로운 열 Amount_Scaled로 저장 \n",
    "sampled_df['Amount_Scaled'] = scaler.fit_transform(sampled_df[['Amount']])\n",
    "\n",
    "#기존 Amount 열 제거\n",
    "sampled_df = sampled_df.drop(columns=['Amount'])\n",
    "\n",
    "#X, y 분리 \n",
    "X = sampled_df.drop(columns=['Class'])\n",
    "y = sampled_df['Class']\n"
   ]
  },
  {
   "cell_type": "markdown",
   "id": "9d3102bf",
   "metadata": {},
   "source": [
    "#### 2-4. 학습 데이터와 테스트 데이터 분할"
   ]
  },
  {
   "cell_type": "code",
   "execution_count": 53,
   "id": "a73ee1ca",
   "metadata": {},
   "outputs": [],
   "source": [
    "from sklearn.model_selection import train_test_split"
   ]
  },
  {
   "cell_type": "code",
   "execution_count": 42,
   "id": "04e1a9f9",
   "metadata": {},
   "outputs": [],
   "source": [
    "#학습셋 80%, 테스트셋 20%로 분할\n",
    "X_train, X_test, y_train, y_test = train_test_split( X, y, test_size=0.2, stratify=y, random_state=42)"
   ]
  },
  {
   "cell_type": "code",
   "execution_count": 43,
   "id": "a6e1583c",
   "metadata": {},
   "outputs": [
    {
     "name": "stdout",
     "output_type": "stream",
     "text": [
      "Class\n",
      "0    0.953056\n",
      "1    0.046944\n",
      "Name: proportion, dtype: float64\n"
     ]
    }
   ],
   "source": [
    "#학습셋 클래스 비율 확인 \n",
    "print(y_train.value_counts(normalize = True))"
   ]
  },
  {
   "cell_type": "code",
   "execution_count": 44,
   "id": "eb323a02",
   "metadata": {},
   "outputs": [
    {
     "name": "stdout",
     "output_type": "stream",
     "text": [
      "Class\n",
      "0    0.953311\n",
      "1    0.046689\n",
      "Name: proportion, dtype: float64\n"
     ]
    }
   ],
   "source": [
    "#테스트셋 클래스 비율 확인 \n",
    "print(y_test.value_counts(normalize=True))"
   ]
  },
  {
   "cell_type": "markdown",
   "id": "b400316e",
   "metadata": {},
   "source": [
    "#### 2-5. SMOTE 적용 "
   ]
  },
  {
   "cell_type": "markdown",
   "id": "3e06a8b8",
   "metadata": {},
   "source": [
    "SMOTE는 소수 클래스의 데이터를 새로 합성함으로써, 클래스 불균형 문제를 완화하는 방법이다.\n",
    "\n",
    "현재 학습 데이터에서는 사기 거래(Class=1)의 비율이 매우 낮아, 모델이 해당 클래스의 패턴을 제대로 학습하지 못할 우려가 있다. \n",
    "이에 따라 SMOTE를 적용하여 소수 클래스 샘플을 합성하고, 정상 거래(class=0)와 유사한 수준으로 클래스 분포를 조정할 필요가 있다. "
   ]
  },
  {
   "cell_type": "code",
   "execution_count": 46,
   "id": "e4393291",
   "metadata": {},
   "outputs": [],
   "source": [
    "from imblearn.over_sampling import SMOTE"
   ]
  },
  {
   "cell_type": "code",
   "execution_count": 47,
   "id": "78a16581",
   "metadata": {},
   "outputs": [],
   "source": [
    "#SMOTE 객체 생성 \n",
    "smote = SMOTE(random_state=42)\n",
    "\n",
    "#학습 데이터에 SMOTE 적용 \n",
    "X_train_smote, y_train_smote = smote.fit_resample(X_train, y_train)"
   ]
  },
  {
   "cell_type": "code",
   "execution_count": 48,
   "id": "46125a8a",
   "metadata": {},
   "outputs": [
    {
     "name": "stdout",
     "output_type": "stream",
     "text": [
      "SMOTE 적용 전:\n",
      "Class\n",
      "0    7999\n",
      "1     394\n",
      "Name: count, dtype: int64\n",
      "\n",
      "SMOTE 적용 후:\n",
      "Class\n",
      "0    7999\n",
      "1    7999\n",
      "Name: count, dtype: int64\n"
     ]
    }
   ],
   "source": [
    "#SMOTE 적용 전/후 클래스 개수 비교 \n",
    "print(\"SMOTE 적용 전:\")\n",
    "print(y_train.value_counts())\n",
    "\n",
    "print(\"\\nSMOTE 적용 후:\")\n",
    "print(y_train_smote.value_counts())"
   ]
  },
  {
   "cell_type": "markdown",
   "id": "ef9b6bb1",
   "metadata": {},
   "source": [
    "SMOTE 적용 결과, 학습 데이터에서 소수 클래스였던 사기 거래(Class=1)가 394건에서 7,999건으로 합성되어, 두 클래스가 1:1 비율로 균형 맞춰졌다."
   ]
  },
  {
   "cell_type": "markdown",
   "id": "5e5231a0",
   "metadata": {},
   "source": [
    "#### 2-6. 모델 학습 "
   ]
  },
  {
   "cell_type": "code",
   "execution_count": 62,
   "id": "170ac17e",
   "metadata": {},
   "outputs": [],
   "source": [
    "from sklearn.ensemble import RandomForestClassifier\n",
    "from sklearn.metrics import classification_report, average_precision_score"
   ]
  },
  {
   "cell_type": "code",
   "execution_count": 63,
   "id": "264d1024",
   "metadata": {},
   "outputs": [
    {
     "name": "stdout",
     "output_type": "stream",
     "text": [
      "예측값: [0 0 0 0 0 0 1 0 0 0]\n",
      "예측 확률 [0.01 0.   0.01 0.   0.   0.01 0.99 0.   0.05 0.  ]\n"
     ]
    }
   ],
   "source": [
    "#모델 정의\n",
    "model = RandomForestClassifier(random_state=42)\n",
    "\n",
    "#모델 학습 \n",
    "model.fit(X_train_smote, y_train_smote)\n",
    "\n",
    "#얘측값 및 예측 확률\n",
    "y_pred = model.predict(X_test)\n",
    "y_proba = model.predict_proba(X_test)[:,1]\n",
    "\n",
    "print(\"예측값:\", y_pred[:10])\n",
    "print(\"예측 확률\", y_proba[:10])\n"
   ]
  },
  {
   "cell_type": "code",
   "execution_count": 64,
   "id": "6b4935d1",
   "metadata": {},
   "outputs": [
    {
     "name": "stdout",
     "output_type": "stream",
     "text": [
      "Classification Report:\n",
      "              precision    recall  f1-score   support\n",
      "\n",
      "           0       0.99      1.00      1.00      2001\n",
      "           1       0.98      0.83      0.90        98\n",
      "\n",
      "    accuracy                           0.99      2099\n",
      "   macro avg       0.98      0.91      0.95      2099\n",
      "weighted avg       0.99      0.99      0.99      2099\n",
      "\n",
      "\n",
      " PR-AUC:\n",
      "0.9156887960343137\n"
     ]
    }
   ],
   "source": [
    "#평가 지표 \n",
    "\n",
    "print(\"Classification Report:\")\n",
    "print(classification_report(y_test, y_pred))\n",
    "\n",
    "\n",
    "print(\"\\n PR-AUC:\")\n",
    "print(average_precision_score(y_test, y_proba))"
   ]
  },
  {
   "cell_type": "markdown",
   "id": "62c3e89d",
   "metadata": {},
   "source": [
    "#### 2-7. 최종 성능 평가 "
   ]
  },
  {
   "cell_type": "markdown",
   "id": "e2e24c50",
   "metadata": {},
   "source": [
    "신용카드 거래 데이터에서 사기 거래(Class=1)를 탐지하기 위해 Random Forest 모델을 활용하였다.\\\n",
    "초기 데이터셋은 총 284,807건의 거래로 구성되어 있었으며, 이 중 사기 거래는 약 0.17%에 불과해 클래스 불균형 문제가 존재했다.\\\n",
    "이를 해결하기 위해, 정상 거래 중 10,000건을 무작위 추출하고 사기 거래는 전부 유지하여 샘플링된 데이터셋을 구성하였다. 이후 SMOTE를 적용하여 소수 클래스(Class=1)의 데이터를 합성하고, 학습 데이터의 클래스 분포를 균형 있게 맞췄다.\\\n",
    "\n",
    "이러한 전처리 과정을 거친 후, 랜덤 포레스트 모델을 학습하고 테스트셋에 대해 예측을 수행한 결과는 다음과 같다:\n",
    "\n",
    "Class1(사기거래)\n",
    "- Recall : 0.83\n",
    "- F1-score: 0.90\n",
    "- PR-AUC: 0.9157\n",
    "\n",
    "Class0(정상거래)\n",
    "- Recall : 1.00\n",
    "- F1-score: 1.00\n",
    "\n",
    "모든 성능 지표가 제시된 기준(Recall ≥ 0.80, F1 ≥ 0.88, PR-AUC ≥ 0.90)을 만족하였다. \n",
    "따라서, 해당 모델이 정상 거래와 사기 거래를 모두 높은 정확도로 분류할 수 있는 신뢰도 높은 분류 모델임을 확인할 수 있었다. \n",
    "\n"
   ]
  },
  {
   "cell_type": "markdown",
   "id": "5a9520f7",
   "metadata": {},
   "source": []
  }
 ],
 "metadata": {
  "kernelspec": {
   "display_name": "base",
   "language": "python",
   "name": "python3"
  },
  "language_info": {
   "codemirror_mode": {
    "name": "ipython",
    "version": 3
   },
   "file_extension": ".py",
   "mimetype": "text/x-python",
   "name": "python",
   "nbconvert_exporter": "python",
   "pygments_lexer": "ipython3",
   "version": "3.13.5"
  }
 },
 "nbformat": 4,
 "nbformat_minor": 5
}
